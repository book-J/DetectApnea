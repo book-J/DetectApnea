{
 "cells": [
  {
   "cell_type": "code",
   "execution_count": 2,
   "metadata": {},
   "outputs": [],
   "source": [
    "import numpy as np\n",
    "import pandas as pd\n",
    "import matplotlib.pyplot as plt\n",
    "from os import listdir\n",
    "from os.path import isfile, join"
   ]
  },
  {
   "cell_type": "code",
   "execution_count": 3,
   "metadata": {},
   "outputs": [],
   "source": [
    "mypath = 'D:\\\\result1'\n",
    "onlyfiles = [f for f in listdir(mypath) if isfile(join(mypath, f))]"
   ]
  },
  {
   "cell_type": "code",
   "execution_count": 4,
   "metadata": {},
   "outputs": [
    {
     "name": "stdout",
     "output_type": "stream",
     "text": [
      "['slp01a.csv', 'slp01b.csv', 'slp02a.csv', 'slp02b.csv', 'slp03.csv', 'slp04.csv', 'slp14.csv', 'slp16.csv', 'slp32.csv', 'slp37.csv', 'slp41.csv', 'slp45.csv', 'slp48.csv', 'slp59.csv', 'slp60.csv', 'slp61.csv', 'slp66.csv', 'slp67x.csv']\n"
     ]
    }
   ],
   "source": [
    "#in folder reading file\n",
    "print(onlyfiles)"
   ]
  },
  {
   "cell_type": "code",
   "execution_count": 78,
   "metadata": {},
   "outputs": [
    {
     "name": "stdout",
     "output_type": "stream",
     "text": [
      "D:\\result1\\slp01a.csv\n"
     ]
    }
   ],
   "source": [
    "filepath = mypath +'\\\\'+ onlyfiles[0]\n",
    "print(filepath)\n",
    "a=pd.read_csv(filepath)"
   ]
  },
  {
   "cell_type": "code",
   "execution_count": 12,
   "metadata": {},
   "outputs": [
    {
     "data": {
      "text/plain": [
       "{'1 LA',\n",
       " '2',\n",
       " '2 H',\n",
       " '2 H H',\n",
       " '2 H LA',\n",
       " '2 HA',\n",
       " '2 L',\n",
       " '2 L HA',\n",
       " '2 L LA',\n",
       " '2 LA',\n",
       " '2 LA H',\n",
       " '2 LA HA',\n",
       " '2 LA L',\n",
       " '2 LA LA',\n",
       " '3',\n",
       " '3 H',\n",
       " '3 H LA',\n",
       " '3 HA',\n",
       " '3 L',\n",
       " '3 L HA LA',\n",
       " '3 L L',\n",
       " '3 L LA',\n",
       " '3 LA',\n",
       " '3 LA L',\n",
       " '3 LA LA',\n",
       " '4',\n",
       " '4 L',\n",
       " '4 L L',\n",
       " '4 L L L',\n",
       " '4 L LA',\n",
       " '4 LA',\n",
       " '4 LA HA LA',\n",
       " '4 LA L',\n",
       " '4 LA LA',\n",
       " 'MT',\n",
       " 'R',\n",
       " 'R H',\n",
       " 'R HA',\n",
       " 'W',\n",
       " 'W HA',\n",
       " 'W LA',\n",
       " nan}"
      ]
     },
     "execution_count": 12,
     "metadata": {},
     "output_type": "execute_result"
    }
   ],
   "source": [
    "set(a['0'])"
   ]
  },
  {
   "cell_type": "code",
   "execution_count": 79,
   "metadata": {},
   "outputs": [],
   "source": [
    "#sleep stage extraction\n",
    "a['stage']=a['0'].str[:1]\n"
   ]
  },
  {
   "cell_type": "code",
   "execution_count": 84,
   "metadata": {},
   "outputs": [],
   "source": [
    "a['stage']=a['stage'].replace(['W','R','M'],[-2,0,-1])\n",
    "a['stage']=a['stage'].astype(int)"
   ]
  },
  {
   "cell_type": "code",
   "execution_count": 65,
   "metadata": {},
   "outputs": [
    {
     "data": {
      "text/html": [
       "<div>\n",
       "<style scoped>\n",
       "    .dataframe tbody tr th:only-of-type {\n",
       "        vertical-align: middle;\n",
       "    }\n",
       "\n",
       "    .dataframe tbody tr th {\n",
       "        vertical-align: top;\n",
       "    }\n",
       "\n",
       "    .dataframe thead th {\n",
       "        text-align: right;\n",
       "    }\n",
       "</style>\n",
       "<table border=\"1\" class=\"dataframe\">\n",
       "  <thead>\n",
       "    <tr style=\"text-align: right;\">\n",
       "      <th></th>\n",
       "      <th>ECG</th>\n",
       "      <th>BP</th>\n",
       "      <th>EEG (C4-A1)</th>\n",
       "      <th>Resp (sum)</th>\n",
       "      <th>stage</th>\n",
       "    </tr>\n",
       "  </thead>\n",
       "  <tbody>\n",
       "    <tr>\n",
       "      <th>1</th>\n",
       "      <td>0.080</td>\n",
       "      <td>47.720908</td>\n",
       "      <td>-0.038880</td>\n",
       "      <td>-0.266667</td>\n",
       "      <td>4</td>\n",
       "    </tr>\n",
       "    <tr>\n",
       "      <th>2</th>\n",
       "      <td>0.125</td>\n",
       "      <td>47.930210</td>\n",
       "      <td>-0.038569</td>\n",
       "      <td>-0.260870</td>\n",
       "      <td>4</td>\n",
       "    </tr>\n",
       "    <tr>\n",
       "      <th>3</th>\n",
       "      <td>0.170</td>\n",
       "      <td>47.720908</td>\n",
       "      <td>-0.039347</td>\n",
       "      <td>-0.271014</td>\n",
       "      <td>4</td>\n",
       "    </tr>\n",
       "    <tr>\n",
       "      <th>4</th>\n",
       "      <td>0.230</td>\n",
       "      <td>47.302304</td>\n",
       "      <td>-0.035303</td>\n",
       "      <td>-0.265217</td>\n",
       "      <td>4</td>\n",
       "    </tr>\n",
       "    <tr>\n",
       "      <th>5</th>\n",
       "      <td>0.340</td>\n",
       "      <td>46.883699</td>\n",
       "      <td>-0.025350</td>\n",
       "      <td>-0.272464</td>\n",
       "      <td>4</td>\n",
       "    </tr>\n",
       "  </tbody>\n",
       "</table>\n",
       "</div>"
      ],
      "text/plain": [
       "     ECG         BP  EEG (C4-A1)  Resp (sum) stage\n",
       "1  0.080  47.720908    -0.038880   -0.266667     4\n",
       "2  0.125  47.930210    -0.038569   -0.260870     4\n",
       "3  0.170  47.720908    -0.039347   -0.271014     4\n",
       "4  0.230  47.302304    -0.035303   -0.265217     4\n",
       "5  0.340  46.883699    -0.025350   -0.272464     4"
      ]
     },
     "execution_count": 65,
     "metadata": {},
     "output_type": "execute_result"
    }
   ],
   "source": [
    "a.head()"
   ]
  },
  {
   "cell_type": "code",
   "execution_count": 81,
   "metadata": {},
   "outputs": [],
   "source": [
    "#nan 값 제거\n",
    "a['stage']=a['stage'].ffill()\n",
    "a=a.drop(0)\n",
    "a=a.drop(['0','Unnamed: 0'],axis=1)"
   ]
  },
  {
   "cell_type": "code",
   "execution_count": 86,
   "metadata": {},
   "outputs": [],
   "source": [
    "from sklearn.model_selection import train_test_split\n",
    "x_train, x_test, y_train, y_test = train_test_split(a.loc[:,:'Resp (sum)'],a['stage'],random_state=42)"
   ]
  },
  {
   "cell_type": "code",
   "execution_count": 87,
   "metadata": {},
   "outputs": [
    {
     "data": {
      "text/plain": [
       "{-2, -1, 0, 1, 2, 3, 4}"
      ]
     },
     "execution_count": 87,
     "metadata": {},
     "output_type": "execute_result"
    }
   ],
   "source": [
    "#train, test split\n",
    "set(y_train)"
   ]
  },
  {
   "cell_type": "code",
   "execution_count": 88,
   "metadata": {},
   "outputs": [],
   "source": [
    "from sklearn.linear_model import LogisticRegression\n",
    "from sklearn.ensemble import RandomForestClassifier\n",
    "from sklearn.svm import SVC\n",
    "\n",
    "log_clf = LogisticRegression(solver='lbfgs',random_state=42)\n",
    "rnd_clf = RandomForestClassifier(n_estimators=100, random_state=42)\n",
    "svm_clf = SVC(gamma = 'scale', random_state=42)"
   ]
  },
  {
   "cell_type": "code",
   "execution_count": null,
   "metadata": {},
   "outputs": [
    {
     "name": "stderr",
     "output_type": "stream",
     "text": [
      "C:\\ProgramData\\Anaconda3\\lib\\site-packages\\sklearn\\linear_model\\_logistic.py:762: ConvergenceWarning: lbfgs failed to converge (status=1):\n",
      "STOP: TOTAL NO. of ITERATIONS REACHED LIMIT.\n",
      "\n",
      "Increase the number of iterations (max_iter) or scale the data as shown in:\n",
      "    https://scikit-learn.org/stable/modules/preprocessing.html\n",
      "Please also refer to the documentation for alternative solver options:\n",
      "    https://scikit-learn.org/stable/modules/linear_model.html#logistic-regression\n",
      "  n_iter_i = _check_optimize_result(\n"
     ]
    },
    {
     "name": "stdout",
     "output_type": "stream",
     "text": [
      "LogisticRegression 0.4590444444444444\n",
      "RandomForestClassifier 0.5738088888888889\n"
     ]
    }
   ],
   "source": [
    "from sklearn.metrics import accuracy_score\n",
    "for clf in (log_clf, rnd_clf, svm_clf):\n",
    "    clf.fit(x_train, y_train)\n",
    "    y_pred = clf.predict(x_test)\n",
    "    print(clf.__class__.__name__, accuracy_score(y_test,y_pred))"
   ]
  }
 ],
 "metadata": {
  "kernelspec": {
   "display_name": "Python 3",
   "language": "python",
   "name": "python3"
  },
  "language_info": {
   "codemirror_mode": {
    "name": "ipython",
    "version": 3
   },
   "file_extension": ".py",
   "mimetype": "text/x-python",
   "name": "python",
   "nbconvert_exporter": "python",
   "pygments_lexer": "ipython3",
   "version": "3.8.3"
  }
 },
 "nbformat": 4,
 "nbformat_minor": 4
}
