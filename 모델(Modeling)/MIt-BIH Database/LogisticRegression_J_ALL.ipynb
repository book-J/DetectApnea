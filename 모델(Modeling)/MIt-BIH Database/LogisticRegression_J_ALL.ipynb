{
 "cells": [
  {
   "cell_type": "code",
   "execution_count": 1,
   "metadata": {},
   "outputs": [],
   "source": [
    "import numpy as np\n",
    "import pandas as pd\n",
    "import matplotlib.pyplot as plt\n",
    "from os import listdir\n",
    "from os.path import isfile, join\n",
    "from sklearn.model_selection import train_test_split\n",
    "from sklearn.linear_model import LogisticRegression\n",
    "from sklearn.ensemble import RandomForestClassifier\n",
    "from sklearn.svm import SVC\n",
    "from sklearn.metrics import accuracy_score\n"
   ]
  },
  {
   "cell_type": "code",
   "execution_count": 2,
   "metadata": {
    "scrolled": true
   },
   "outputs": [
    {
     "name": "stdout",
     "output_type": "stream",
     "text": [
      "['slp60.csv', 'slp66.csv', 'slp41.csv', 'slp02b.csv', 'slp37.csv', 'slp02a.csv', 'slp32.csv', 'slp59.csv', 'slp67x.csv', 'slp03.csv', 'slp01b.csv', 'slp04.csv', 'slp45.csv', 'slp14.csv', 'slp16.csv', 'slp61.csv', 'slp01a.csv', 'slp48.csv']\n"
     ]
    },
    {
     "data": {
      "text/plain": [
       "'slp66.csv'"
      ]
     },
     "execution_count": 2,
     "metadata": {},
     "output_type": "execute_result"
    }
   ],
   "source": [
    "mypath = 'MIT'\n",
    "onlyfiles = [f for f in listdir(mypath) if isfile(join(mypath, f))]\n",
    "print(onlyfiles)\n",
    "onlyfiles.pop(1)"
   ]
  },
  {
   "cell_type": "code",
   "execution_count": 3,
   "metadata": {},
   "outputs": [
    {
     "name": "stderr",
     "output_type": "stream",
     "text": [
      "<ipython-input-3-d1a5907bf00c>:1: DeprecationWarning: The default dtype for empty Series will be 'object' instead of 'float64' in a future version. Specify a dtype explicitly to silence this warning.\n",
      "  x = pd.Series(name='ECG')\n",
      "<ipython-input-3-d1a5907bf00c>:2: DeprecationWarning: The default dtype for empty Series will be 'object' instead of 'float64' in a future version. Specify a dtype explicitly to silence this warning.\n",
      "  y = pd.Series( name='stage')\n"
     ]
    }
   ],
   "source": [
    "x = pd.Series(name='ECG')\n",
    "y = pd.Series( name='stage')"
   ]
  },
  {
   "cell_type": "code",
   "execution_count": 4,
   "metadata": {},
   "outputs": [],
   "source": [
    "def extracfile(fname,x,y):   \n",
    "    filepath = './MIT/'+fname\n",
    "    print(filepath)\n",
    "    a=pd.read_csv(filepath, low_memory=False)\n",
    "    a['stage']=a['0'].str[:1]\n",
    "    a['stage']=a['stage'].replace(['W','R','M'],[-2,0,-1])\n",
    "    a['stage']=a['stage'].ffill(limit=7502)\n",
    "    a=a.drop(0)\n",
    "    a=a.drop(['0','Unnamed: 0'],axis=1)\n",
    "    a=a.astype(float)\n",
    "    a=a.dropna()\n",
    "    x=x.append(a['ECG'],ignore_index=True)\n",
    "    y=y.append(a['stage'],ignore_index=True)\n",
    "    return x,y\n",
    "    \n",
    "    "
   ]
  },
  {
   "cell_type": "code",
   "execution_count": 5,
   "metadata": {},
   "outputs": [
    {
     "name": "stdout",
     "output_type": "stream",
     "text": [
      "./MIT/slp60.csv\n",
      "./MIT/slp41.csv\n",
      "./MIT/slp02b.csv\n",
      "./MIT/slp37.csv\n",
      "./MIT/slp02a.csv\n",
      "./MIT/slp32.csv\n",
      "./MIT/slp59.csv\n",
      "./MIT/slp67x.csv\n",
      "./MIT/slp03.csv\n",
      "./MIT/slp01b.csv\n",
      "./MIT/slp04.csv\n",
      "./MIT/slp45.csv\n",
      "./MIT/slp14.csv\n",
      "./MIT/slp16.csv\n",
      "./MIT/slp61.csv\n",
      "./MIT/slp01a.csv\n",
      "./MIT/slp48.csv\n"
     ]
    }
   ],
   "source": [
    "for i in onlyfiles:\n",
    "    x,y = extracfile(i,x,y)"
   ]
  },
  {
   "cell_type": "code",
   "execution_count": 6,
   "metadata": {},
   "outputs": [],
   "source": [
    "x_train, x_test, y_train, y_test = train_test_split(x,y,random_state=42)\n",
    "log_clf = LogisticRegression(solver='lbfgs',random_state=42)\n",
    "rnd_clf = RandomForestClassifier(n_estimators=100, random_state=42)\n",
    "\n"
   ]
  },
  {
   "cell_type": "code",
   "execution_count": 7,
   "metadata": {},
   "outputs": [],
   "source": [
    "x_train = x_train.to_numpy().reshape(-1, 1)\n",
    "y_train = y_train.to_numpy().reshape(-1, 1)\n",
    "x_test = x_test.to_numpy().reshape(-1, 1)\n",
    "y_test = y_test.to_numpy().reshape(-1, 1)\n"
   ]
  },
  {
   "cell_type": "code",
   "execution_count": 8,
   "metadata": {},
   "outputs": [],
   "source": [
    "y_train=y_train.ravel()\n",
    "y_test=y_test.ravel()"
   ]
  },
  {
   "cell_type": "code",
   "execution_count": 9,
   "metadata": {},
   "outputs": [
    {
     "data": {
      "text/plain": [
       "(73184988, 73184988, 0)"
      ]
     },
     "execution_count": 9,
     "metadata": {},
     "output_type": "execute_result"
    }
   ],
   "source": [
    "len(y), len(x), y.isnull().sum()"
   ]
  },
  {
   "cell_type": "code",
   "execution_count": null,
   "metadata": {},
   "outputs": [],
   "source": [
    "'''for clf in (log_clf):\n",
    "    clf.fit(x_train, y_train)\n",
    "    y_pred = clf.predict(x_test)\n",
    "    print(clf.__class__.__name__, accuracy_score(y_test,y_pred))'''\n",
    "log_clf.fit(x_train, y_train)\n",
    "y_pred = log_clf.predict(x_test)\n",
    "print( accuracy_score(y_test,y_pred))"
   ]
  },
  {
   "cell_type": "code",
   "execution_count": null,
   "metadata": {},
   "outputs": [],
   "source": [
    "print( accuracy_score(y_test,y_pred))"
   ]
  }
 ],
 "metadata": {
  "kernelspec": {
   "display_name": "Python 3_CDP",
   "language": "python",
   "name": "cdp"
  },
  "language_info": {
   "codemirror_mode": {
    "name": "ipython",
    "version": 3
   },
   "file_extension": ".py",
   "mimetype": "text/x-python",
   "name": "python",
   "nbconvert_exporter": "python",
   "pygments_lexer": "ipython3",
   "version": "3.8.5"
  }
 },
 "nbformat": 4,
 "nbformat_minor": 4
}
